{
 "cells": [
  {
   "cell_type": "code",
   "execution_count": null,
   "id": "cce4cee8",
   "metadata": {},
   "outputs": [
    {
     "name": "stdout",
     "output_type": "stream",
     "text": [
      "It is an even number\n"
     ]
    }
   ],
   "source": [
    "#Ask user toinput a number\n",
    "number = float(input('Enter a number:'))\n",
    "\n",
    "if number % 2 == 0:  #number divisible by 2 is even\n",
    "    print('It is an even number')\n",
    "elif number % 2 == 1:  #number divisible by 3 is odd\n",
    "    print('It is an odd number')\n",
    "else:\n",
    "    print('it is invalid')"
   ]
  },
  {
   "cell_type": "code",
   "execution_count": 6,
   "id": "cb056d2d",
   "metadata": {},
   "outputs": [
    {
     "name": "stdout",
     "output_type": "stream",
     "text": [
      "Keep practicing\n"
     ]
    }
   ],
   "source": [
    "#Ask user for a score\n",
    "score = float(input(\"Enter a score between 0 and 100:\"))\n",
    "\n",
    "if score >= 90:\n",
    "    print(\"Excellent\")\n",
    "elif score > 70 < 90:\n",
    "    print(\"Good job\")\n",
    "else:\n",
    "    print(\"Keep practicing\")"
   ]
  },
  {
   "cell_type": "code",
   "execution_count": 14,
   "id": "e37af34f",
   "metadata": {},
   "outputs": [
    {
     "name": "stdout",
     "output_type": "stream",
     "text": [
      "It's a weekend\n"
     ]
    }
   ],
   "source": [
    "#Ask the user for a day in the week\n",
    "\n",
    "Day = input(\"Enter a day in the week:\").capitalize()\n",
    "\n",
    "if Day == \"Saturday\" or Day == \"Sunday\":\n",
    "    print (\"It's a weekend\")\n",
    "else:\n",
    "    print(\"It's a weekday\")"
   ]
  },
  {
   "cell_type": "code",
   "execution_count": 20,
   "id": "1c13865d",
   "metadata": {},
   "outputs": [
    {
     "name": "stdout",
     "output_type": "stream",
     "text": [
      "it is not a leap year\n"
     ]
    }
   ],
   "source": [
    "#Ask user to input the year\n",
    "\n",
    "year = int(input(\"Enter a year:\"))\n",
    "\n",
    "if year % 4 == 0 and year % 100 != 0 or year % 400 == 0:\n",
    "    print(\"It is a leap year\")\n",
    "else:\n",
    "    print (\"it is not a leap year\")"
   ]
  },
  {
   "cell_type": "code",
   "execution_count": null,
   "id": "cff797ef",
   "metadata": {},
   "outputs": [
    {
     "name": "stdout",
     "output_type": "stream",
     "text": [
      "Largest number is 12.0\n"
     ]
    }
   ],
   "source": [
    "#Find the largest among three numbers\n",
    "#Ask user for numbers\n",
    "num1 = float(input(\"Enter first number:\"))\n",
    "num2 = float(input(\"Enter second number:\"))\n",
    "num3 = float(input(\"Enter third number:\"))\n",
    "\n",
    "if (num1 >= num2) and (num1 >= num3):\n",
    "    print(num1 , \"is the largest\")\n",
    "elif (num2 >= num1) and (num2 >= num3):\n",
    "    print(num2 , \"is the largest\")\n",
    "else:\n",
    "    print(\"Largest number is\" , num3)"
   ]
  },
  {
   "cell_type": "code",
   "execution_count": 26,
   "id": "ad2e38b5",
   "metadata": {},
   "outputs": [
    {
     "name": "stdout",
     "output_type": "stream",
     "text": [
      "53 is a prime number\n"
     ]
    }
   ],
   "source": [
    "#Check whether a number is prime\n",
    "#Ask user for a number\n",
    "num_prime = int(input(\"Enter a number:\"))\n",
    "\n",
    "if num_prime <= 1:\n",
    "    print(num_prime , \"is not a prime number\")\n",
    "#check for factors\n",
    "else:\n",
    "    for i in range(2, int(num_prime ** 0.5) + 1):\n",
    "        if num_prime  % i == 0:\n",
    "            print(num_prime , \"is not a prime number\")\n",
    "    else:\n",
    "        print(num_prime , \"is a prime number\")"
   ]
  },
  {
   "cell_type": "code",
   "execution_count": 27,
   "id": "8a13ac09",
   "metadata": {},
   "outputs": [
    {
     "name": "stdout",
     "output_type": "stream",
     "text": [
      "Strings are not equal\n"
     ]
    }
   ],
   "source": [
    "#To check if two strimns are equal\n",
    "#Ask user to input strings\n",
    "\n",
    "string1 = input(\"Enter first string:\")\n",
    "string2 = input(\"Enter second string:\")\n",
    "\n",
    "if string1 == string2:\n",
    "    print(\"Strings are equal\")\n",
    "else:\n",
    "    print(\"Strings are not equal\")"
   ]
  },
  {
   "cell_type": "code",
   "execution_count": 28,
   "id": "f7b99466",
   "metadata": {},
   "outputs": [
    {
     "name": "stdout",
     "output_type": "stream",
     "text": [
      "49.0 is an F\n"
     ]
    }
   ],
   "source": [
    "#Implement a grade system using if-else.\n",
    "#Ask user for a score\n",
    "\n",
    "score = float(input(\"Enter a score:\"))\n",
    "\n",
    "if score >= 90:\n",
    "    print(score , \"is an A\")\n",
    "elif score >= 80 < 90:\n",
    "    print(score , \"is a B\")\n",
    "elif score >= 70 < 80:\n",
    "    print(score , \"is a C\")\n",
    "elif score >= 60 < 70:\n",
    "    print(score , \"is a D\")\n",
    "elif score >= 50 < 60:\n",
    "    print(score , \"is an E\")\n",
    "else:\n",
    "    print(score , \"is an F\")"
   ]
  }
 ],
 "metadata": {
  "kernelspec": {
   "display_name": "Python 3",
   "language": "python",
   "name": "python3"
  },
  "language_info": {
   "codemirror_mode": {
    "name": "ipython",
    "version": 3
   },
   "file_extension": ".py",
   "mimetype": "text/x-python",
   "name": "python",
   "nbconvert_exporter": "python",
   "pygments_lexer": "ipython3",
   "version": "3.13.5"
  }
 },
 "nbformat": 4,
 "nbformat_minor": 5
}
